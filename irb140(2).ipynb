{
 "cells": [
  {
   "attachments": {},
   "cell_type": "markdown",
   "metadata": {},
   "source": [
    "# Juan Ruiz Juan Ortega Juan Cerquera\n",
    "# Cinematica inversa robot Irb140"
   ]
  },
  {
   "attachments": {},
   "cell_type": "markdown",
   "metadata": {},
   "source": [
    "### Librerias"
   ]
  },
  {
   "cell_type": "code",
   "execution_count": 1,
   "metadata": {},
   "outputs": [],
   "source": [
    "import sympy as sp\n",
    "import numpy as np\n",
    "import matplotlib.pyplot as plt\n",
    "import roboticstoolbox as rtb"
   ]
  },
  {
   "attachments": {},
   "cell_type": "markdown",
   "metadata": {},
   "source": [
    "### DH Irb140 en clase de robotic-toolbox"
   ]
  },
  {
   "cell_type": "code",
   "execution_count": 2,
   "metadata": {},
   "outputs": [
    {
     "data": {
      "text/plain": [
       "DHRobot: IRB 140 (by ABB), 6 joints (RRRRRR), dynamics, geometry, standard DH parameters\n",
       "┌────┬───────┬──────┬────────┬─────────┬────────┐\n",
       "│θⱼ  │  dⱼ   │  aⱼ  │   ⍺ⱼ   │   q⁻    │   q⁺   │\n",
       "├────┼───────┼──────┼────────┼─────────┼────────┤\n",
       "│ q1\u001b[0m │ 0.352\u001b[0m │ 0.07\u001b[0m │ -90.0°\u001b[0m │ -180.0°\u001b[0m │ 180.0°\u001b[0m │\n",
       "│ q2\u001b[0m │     0\u001b[0m │ 0.36\u001b[0m │   0.0°\u001b[0m │ -100.0°\u001b[0m │ 100.0°\u001b[0m │\n",
       "│ q3\u001b[0m │     0\u001b[0m │    0\u001b[0m │ -90.0°\u001b[0m │ -220.0°\u001b[0m │  60.0°\u001b[0m │\n",
       "│ q4\u001b[0m │  0.38\u001b[0m │    0\u001b[0m │  90.0°\u001b[0m │ -200.0°\u001b[0m │ 200.0°\u001b[0m │\n",
       "│ q5\u001b[0m │     0\u001b[0m │    0\u001b[0m │ -90.0°\u001b[0m │ -120.0°\u001b[0m │ 120.0°\u001b[0m │\n",
       "│ q6\u001b[0m │ 0.065\u001b[0m │    0\u001b[0m │   0.0°\u001b[0m │ -400.0°\u001b[0m │ 400.0°\u001b[0m │\n",
       "└────┴───────┴──────┴────────┴─────────┴────────┘\n",
       "\n",
       "┌─┬──┐\n",
       "└─┴──┘\n",
       "\n",
       "┌─────┬─────┬──────┬───────┬─────┬──────┬──────┐\n",
       "│name │ q0  │ q1   │ q2    │ q3  │ q4   │ q5   │\n",
       "├─────┼─────┼──────┼───────┼─────┼──────┼──────┤\n",
       "│  qr\u001b[0m │  0°\u001b[0m │ -90°\u001b[0m │  90°\u001b[0m  │  0°\u001b[0m │  90°\u001b[0m │ -90°\u001b[0m │\n",
       "│  qz\u001b[0m │  0°\u001b[0m │  0°\u001b[0m  │  0°\u001b[0m   │  0°\u001b[0m │  0°\u001b[0m  │  0°\u001b[0m  │\n",
       "│  qd\u001b[0m │  0°\u001b[0m │ -90°\u001b[0m │  180°\u001b[0m │  0°\u001b[0m │  0°\u001b[0m  │ -90°\u001b[0m │\n",
       "└─────┴─────┴──────┴───────┴─────┴──────┴──────┘"
      ]
     },
     "execution_count": 2,
     "metadata": {},
     "output_type": "execute_result"
    }
   ],
   "source": [
    "irb140 = rtb.models.DH.IRB140()\n",
    "irb140"
   ]
  },
  {
   "attachments": {},
   "cell_type": "markdown",
   "metadata": {},
   "source": [
    "## Cinematica directa"
   ]
  },
  {
   "cell_type": "code",
   "execution_count": 3,
   "metadata": {},
   "outputs": [],
   "source": [
    "def sTdh(d, th, a, alpha):\n",
    "    cth = sp.cos(th); sth = sp.sin(th)\n",
    "    ca = sp.cos(alpha); sa = sp.sin(alpha)\n",
    "    Tdh = sp.Matrix([[cth, -ca*sth,  sa*sth, a*cth],\n",
    "                     [sth,  ca*cth, -sa*cth, a*sth],\n",
    "                     [0,        sa,     ca,      d],\n",
    "                     [0,         0,      0,      1]])\n",
    "    return Tdh\n",
    "\n",
    "def Tdh(d, th, a, alpha):\n",
    "    cth = np.cos(th);    sth = np.sin(th)\n",
    "    ca = np.cos(alpha);  sa = np.sin(alpha)\n",
    "    Tdh = np.array([[cth, -ca*sth,  sa*sth, a*cth],\n",
    "                    [sth,  ca*cth, -sa*cth, a*sth],\n",
    "                    [0,        sa,     ca,      d],\n",
    "                    [0,         0,      0,      1]])\n",
    "    return Tdh"
   ]
  },
  {
   "cell_type": "code",
   "execution_count": 4,
   "metadata": {},
   "outputs": [],
   "source": [
    "\n",
    "def scdirecta_irb140(q, l1, l2, l3, l4, l5):\n",
    "\n",
    "    T01 = sTdh(    l1,    q[0],   l2,   -sp.pi/2)\n",
    "    T12 = sTdh(     0,    q[1],   l3,          0)\n",
    "    T23 = sTdh(     0,    q[2],    0,   -sp.pi/2)\n",
    "    T34 = sTdh(    l4,    q[3],    0,    sp.pi/2)\n",
    "    T45 = sTdh(     0,    q[4],    0,   -sp.pi/2)\n",
    "    T56 = sTdh(    l5,    q[5],    0,          0)\n",
    "\n",
    "    Tf = T01@(T12)@(T23)@(T34)@(T45)@(T56)\n",
    "    last_column = Tf[:, -1]\n",
    "    return last_column"
   ]
  },
  {
   "cell_type": "code",
   "execution_count": 6,
   "metadata": {},
   "outputs": [
    {
     "name": "stdout",
     "output_type": "stream",
     "text": [
      "Matrix([[l2*cos(q1) + l3*cos(q1)*cos(q2) + l4*(-sin(q2)*cos(q1)*cos(q3) - sin(q3)*cos(q1)*cos(q2)) + l5*(-((-sin(q2)*sin(q3)*cos(q1) + cos(q1)*cos(q2)*cos(q3))*cos(q4) + sin(q1)*sin(q4))*sin(q5) + (-sin(q2)*cos(q1)*cos(q3) - sin(q3)*cos(q1)*cos(q2))*cos(q5))], [l2*sin(q1) + l3*sin(q1)*cos(q2) + l4*(-sin(q1)*sin(q2)*cos(q3) - sin(q1)*sin(q3)*cos(q2)) + l5*(-((-sin(q1)*sin(q2)*sin(q3) + sin(q1)*cos(q2)*cos(q3))*cos(q4) - sin(q4)*cos(q1))*sin(q5) + (-sin(q1)*sin(q2)*cos(q3) - sin(q1)*sin(q3)*cos(q2))*cos(q5))], [l1 - l3*sin(q2) + l4*(sin(q2)*sin(q3) - cos(q2)*cos(q3)) + l5*((sin(q2)*sin(q3) - cos(q2)*cos(q3))*cos(q5) - (-sin(q2)*cos(q3) - sin(q3)*cos(q2))*sin(q5)*cos(q4))], [1]])\n"
     ]
    }
   ],
   "source": [
    "q1, q2, q3, q4, q5, q6 = sp.symbols('q1 q2 q3 q4 q5 q6')\n",
    "l1, l2, l3, l4, l5 = sp.symbols('l1 l2 l3 l4 l5')\n",
    "q = [q1,q2,q3,q4,q5,q6]\n",
    "\n",
    "TeS = scdirecta_irb140(q, l1, l2, l3, l4, l5)\n",
    "print(TeS)"
   ]
  },
  {
   "cell_type": "code",
   "execution_count": 7,
   "metadata": {},
   "outputs": [],
   "source": [
    "def ncdirecta_irb140(q, l1, l2, l3, l4, l5):\n",
    "\n",
    "    T01 = Tdh(    l1,    q[0],   l2,   -np.pi/2)\n",
    "    T12 = Tdh(     0,    q[1],   l3,          0)\n",
    "    T23 = Tdh(     0,    q[2],    0,   -np.pi/2)\n",
    "    T34 = Tdh(    l4,    q[3],    0,    np.pi/2)\n",
    "    T45 = Tdh(     0,    q[4],    0,   -np.pi/2)\n",
    "    T56 = Tdh(    l5,    q[5],    0,          0)\n",
    "\n",
    "    Tf = T01@(T12)@(T23)@(T34)@(T45)@(T56)\n",
    "    last_column = Tf[:, -1]\n",
    "    return last_column"
   ]
  },
  {
   "cell_type": "code",
   "execution_count": 8,
   "metadata": {},
   "outputs": [
    {
     "data": {
      "text/plain": [
       "array([ 0.1859542 ,  0.0308539 , -0.08930135,  1.        ])"
      ]
     },
     "execution_count": 8,
     "metadata": {},
     "output_type": "execute_result"
    }
   ],
   "source": [
    "l1 = 0.352\n",
    "l2 = 0.07\n",
    "l3 = 0.36\n",
    "l4 = 0.38\n",
    "l5 = 0.065\n",
    "q = [0.1, 0.2, 0.3, 0.4, 0.5, 0.6]\n",
    "\n",
    "TeN = ncdirecta_irb140(q, l1, l2, l3, l4, l5)\n",
    "TeN"
   ]
  },
  {
   "cell_type": "code",
   "execution_count": 9,
   "metadata": {},
   "outputs": [
    {
     "name": "stdout",
     "output_type": "stream",
     "text": [
      "  \u001b[38;5;1m 0.2819  \u001b[0m \u001b[38;5;1m-0.4934  \u001b[0m \u001b[38;5;1m-0.8229  \u001b[0m \u001b[38;5;4m 0.186   \u001b[0m  \u001b[0m\n",
      "  \u001b[38;5;1m-0.7779  \u001b[0m \u001b[38;5;1m-0.6196  \u001b[0m \u001b[38;5;1m 0.1051  \u001b[0m \u001b[38;5;4m 0.03085 \u001b[0m  \u001b[0m\n",
      "  \u001b[38;5;1m-0.5617  \u001b[0m \u001b[38;5;1m 0.6105  \u001b[0m \u001b[38;5;1m-0.5584  \u001b[0m \u001b[38;5;4m-0.0893  \u001b[0m  \u001b[0m\n",
      "  \u001b[38;5;244m 0       \u001b[0m \u001b[38;5;244m 0       \u001b[0m \u001b[38;5;244m 0       \u001b[0m \u001b[38;5;244m 1       \u001b[0m  \u001b[0m\n",
      "\n"
     ]
    }
   ],
   "source": [
    "T = irb140.fkine([0.1, 0.2, 0.3, 0.4, 0.5, 0.6])  # forward kinematics\n",
    "print(T)"
   ]
  },
  {
   "attachments": {},
   "cell_type": "markdown",
   "metadata": {},
   "source": [
    "### Jacobiano"
   ]
  },
  {
   "cell_type": "code",
   "execution_count": 10,
   "metadata": {},
   "outputs": [
    {
     "data": {
      "text/latex": [
       "$\\displaystyle \\left[\\begin{matrix}- l_{2} \\sin{\\left(q_{1} \\right)} - l_{3} \\sin{\\left(q_{1} \\right)} \\cos{\\left(q_{2} \\right)} + l_{4} \\left(\\sin{\\left(q_{1} \\right)} \\sin{\\left(q_{2} \\right)} \\cos{\\left(q_{3} \\right)} + \\sin{\\left(q_{1} \\right)} \\sin{\\left(q_{3} \\right)} \\cos{\\left(q_{2} \\right)}\\right) + l_{5} \\left(- \\left(\\left(\\sin{\\left(q_{1} \\right)} \\sin{\\left(q_{2} \\right)} \\sin{\\left(q_{3} \\right)} - \\sin{\\left(q_{1} \\right)} \\cos{\\left(q_{2} \\right)} \\cos{\\left(q_{3} \\right)}\\right) \\cos{\\left(q_{4} \\right)} + \\sin{\\left(q_{4} \\right)} \\cos{\\left(q_{1} \\right)}\\right) \\sin{\\left(q_{5} \\right)} + \\left(\\sin{\\left(q_{1} \\right)} \\sin{\\left(q_{2} \\right)} \\cos{\\left(q_{3} \\right)} + \\sin{\\left(q_{1} \\right)} \\sin{\\left(q_{3} \\right)} \\cos{\\left(q_{2} \\right)}\\right) \\cos{\\left(q_{5} \\right)}\\right) & - l_{3} \\sin{\\left(q_{2} \\right)} \\cos{\\left(q_{1} \\right)} + l_{4} \\left(\\sin{\\left(q_{2} \\right)} \\sin{\\left(q_{3} \\right)} \\cos{\\left(q_{1} \\right)} - \\cos{\\left(q_{1} \\right)} \\cos{\\left(q_{2} \\right)} \\cos{\\left(q_{3} \\right)}\\right) + l_{5} \\left(\\left(\\sin{\\left(q_{2} \\right)} \\sin{\\left(q_{3} \\right)} \\cos{\\left(q_{1} \\right)} - \\cos{\\left(q_{1} \\right)} \\cos{\\left(q_{2} \\right)} \\cos{\\left(q_{3} \\right)}\\right) \\cos{\\left(q_{5} \\right)} - \\left(- \\sin{\\left(q_{2} \\right)} \\cos{\\left(q_{1} \\right)} \\cos{\\left(q_{3} \\right)} - \\sin{\\left(q_{3} \\right)} \\cos{\\left(q_{1} \\right)} \\cos{\\left(q_{2} \\right)}\\right) \\sin{\\left(q_{5} \\right)} \\cos{\\left(q_{4} \\right)}\\right) & l_{4} \\left(\\sin{\\left(q_{2} \\right)} \\sin{\\left(q_{3} \\right)} \\cos{\\left(q_{1} \\right)} - \\cos{\\left(q_{1} \\right)} \\cos{\\left(q_{2} \\right)} \\cos{\\left(q_{3} \\right)}\\right) + l_{5} \\left(\\left(\\sin{\\left(q_{2} \\right)} \\sin{\\left(q_{3} \\right)} \\cos{\\left(q_{1} \\right)} - \\cos{\\left(q_{1} \\right)} \\cos{\\left(q_{2} \\right)} \\cos{\\left(q_{3} \\right)}\\right) \\cos{\\left(q_{5} \\right)} - \\left(- \\sin{\\left(q_{2} \\right)} \\cos{\\left(q_{1} \\right)} \\cos{\\left(q_{3} \\right)} - \\sin{\\left(q_{3} \\right)} \\cos{\\left(q_{1} \\right)} \\cos{\\left(q_{2} \\right)}\\right) \\sin{\\left(q_{5} \\right)} \\cos{\\left(q_{4} \\right)}\\right) & - l_{5} \\left(- \\left(- \\sin{\\left(q_{2} \\right)} \\sin{\\left(q_{3} \\right)} \\cos{\\left(q_{1} \\right)} + \\cos{\\left(q_{1} \\right)} \\cos{\\left(q_{2} \\right)} \\cos{\\left(q_{3} \\right)}\\right) \\sin{\\left(q_{4} \\right)} + \\sin{\\left(q_{1} \\right)} \\cos{\\left(q_{4} \\right)}\\right) \\sin{\\left(q_{5} \\right)} & l_{5} \\left(- \\left(\\left(- \\sin{\\left(q_{2} \\right)} \\sin{\\left(q_{3} \\right)} \\cos{\\left(q_{1} \\right)} + \\cos{\\left(q_{1} \\right)} \\cos{\\left(q_{2} \\right)} \\cos{\\left(q_{3} \\right)}\\right) \\cos{\\left(q_{4} \\right)} + \\sin{\\left(q_{1} \\right)} \\sin{\\left(q_{4} \\right)}\\right) \\cos{\\left(q_{5} \\right)} - \\left(- \\sin{\\left(q_{2} \\right)} \\cos{\\left(q_{1} \\right)} \\cos{\\left(q_{3} \\right)} - \\sin{\\left(q_{3} \\right)} \\cos{\\left(q_{1} \\right)} \\cos{\\left(q_{2} \\right)}\\right) \\sin{\\left(q_{5} \\right)}\\right)\\\\l_{2} \\cos{\\left(q_{1} \\right)} + l_{3} \\cos{\\left(q_{1} \\right)} \\cos{\\left(q_{2} \\right)} + l_{4} \\left(- \\sin{\\left(q_{2} \\right)} \\cos{\\left(q_{1} \\right)} \\cos{\\left(q_{3} \\right)} - \\sin{\\left(q_{3} \\right)} \\cos{\\left(q_{1} \\right)} \\cos{\\left(q_{2} \\right)}\\right) + l_{5} \\left(- \\left(\\left(- \\sin{\\left(q_{2} \\right)} \\sin{\\left(q_{3} \\right)} \\cos{\\left(q_{1} \\right)} + \\cos{\\left(q_{1} \\right)} \\cos{\\left(q_{2} \\right)} \\cos{\\left(q_{3} \\right)}\\right) \\cos{\\left(q_{4} \\right)} + \\sin{\\left(q_{1} \\right)} \\sin{\\left(q_{4} \\right)}\\right) \\sin{\\left(q_{5} \\right)} + \\left(- \\sin{\\left(q_{2} \\right)} \\cos{\\left(q_{1} \\right)} \\cos{\\left(q_{3} \\right)} - \\sin{\\left(q_{3} \\right)} \\cos{\\left(q_{1} \\right)} \\cos{\\left(q_{2} \\right)}\\right) \\cos{\\left(q_{5} \\right)}\\right) & - l_{3} \\sin{\\left(q_{1} \\right)} \\sin{\\left(q_{2} \\right)} + l_{4} \\left(\\sin{\\left(q_{1} \\right)} \\sin{\\left(q_{2} \\right)} \\sin{\\left(q_{3} \\right)} - \\sin{\\left(q_{1} \\right)} \\cos{\\left(q_{2} \\right)} \\cos{\\left(q_{3} \\right)}\\right) + l_{5} \\left(\\left(\\sin{\\left(q_{1} \\right)} \\sin{\\left(q_{2} \\right)} \\sin{\\left(q_{3} \\right)} - \\sin{\\left(q_{1} \\right)} \\cos{\\left(q_{2} \\right)} \\cos{\\left(q_{3} \\right)}\\right) \\cos{\\left(q_{5} \\right)} - \\left(- \\sin{\\left(q_{1} \\right)} \\sin{\\left(q_{2} \\right)} \\cos{\\left(q_{3} \\right)} - \\sin{\\left(q_{1} \\right)} \\sin{\\left(q_{3} \\right)} \\cos{\\left(q_{2} \\right)}\\right) \\sin{\\left(q_{5} \\right)} \\cos{\\left(q_{4} \\right)}\\right) & l_{4} \\left(\\sin{\\left(q_{1} \\right)} \\sin{\\left(q_{2} \\right)} \\sin{\\left(q_{3} \\right)} - \\sin{\\left(q_{1} \\right)} \\cos{\\left(q_{2} \\right)} \\cos{\\left(q_{3} \\right)}\\right) + l_{5} \\left(\\left(\\sin{\\left(q_{1} \\right)} \\sin{\\left(q_{2} \\right)} \\sin{\\left(q_{3} \\right)} - \\sin{\\left(q_{1} \\right)} \\cos{\\left(q_{2} \\right)} \\cos{\\left(q_{3} \\right)}\\right) \\cos{\\left(q_{5} \\right)} - \\left(- \\sin{\\left(q_{1} \\right)} \\sin{\\left(q_{2} \\right)} \\cos{\\left(q_{3} \\right)} - \\sin{\\left(q_{1} \\right)} \\sin{\\left(q_{3} \\right)} \\cos{\\left(q_{2} \\right)}\\right) \\sin{\\left(q_{5} \\right)} \\cos{\\left(q_{4} \\right)}\\right) & - l_{5} \\left(- \\left(- \\sin{\\left(q_{1} \\right)} \\sin{\\left(q_{2} \\right)} \\sin{\\left(q_{3} \\right)} + \\sin{\\left(q_{1} \\right)} \\cos{\\left(q_{2} \\right)} \\cos{\\left(q_{3} \\right)}\\right) \\sin{\\left(q_{4} \\right)} - \\cos{\\left(q_{1} \\right)} \\cos{\\left(q_{4} \\right)}\\right) \\sin{\\left(q_{5} \\right)} & l_{5} \\left(- \\left(\\left(- \\sin{\\left(q_{1} \\right)} \\sin{\\left(q_{2} \\right)} \\sin{\\left(q_{3} \\right)} + \\sin{\\left(q_{1} \\right)} \\cos{\\left(q_{2} \\right)} \\cos{\\left(q_{3} \\right)}\\right) \\cos{\\left(q_{4} \\right)} - \\sin{\\left(q_{4} \\right)} \\cos{\\left(q_{1} \\right)}\\right) \\cos{\\left(q_{5} \\right)} - \\left(- \\sin{\\left(q_{1} \\right)} \\sin{\\left(q_{2} \\right)} \\cos{\\left(q_{3} \\right)} - \\sin{\\left(q_{1} \\right)} \\sin{\\left(q_{3} \\right)} \\cos{\\left(q_{2} \\right)}\\right) \\sin{\\left(q_{5} \\right)}\\right)\\\\l_{2} \\cos{\\left(q_{1} \\right)} + l_{3} \\cos{\\left(q_{1} \\right)} \\cos{\\left(q_{2} \\right)} + l_{4} \\left(- \\sin{\\left(q_{2} \\right)} \\cos{\\left(q_{1} \\right)} \\cos{\\left(q_{3} \\right)} - \\sin{\\left(q_{3} \\right)} \\cos{\\left(q_{1} \\right)} \\cos{\\left(q_{2} \\right)}\\right) + l_{5} \\left(- \\left(\\left(- \\sin{\\left(q_{2} \\right)} \\sin{\\left(q_{3} \\right)} \\cos{\\left(q_{1} \\right)} + \\cos{\\left(q_{1} \\right)} \\cos{\\left(q_{2} \\right)} \\cos{\\left(q_{3} \\right)}\\right) \\cos{\\left(q_{4} \\right)} + \\sin{\\left(q_{1} \\right)} \\sin{\\left(q_{4} \\right)}\\right) \\sin{\\left(q_{5} \\right)} + \\left(- \\sin{\\left(q_{2} \\right)} \\cos{\\left(q_{1} \\right)} \\cos{\\left(q_{3} \\right)} - \\sin{\\left(q_{3} \\right)} \\cos{\\left(q_{1} \\right)} \\cos{\\left(q_{2} \\right)}\\right) \\cos{\\left(q_{5} \\right)}\\right) & - l_{3} \\sin{\\left(q_{1} \\right)} \\sin{\\left(q_{2} \\right)} + l_{4} \\left(\\sin{\\left(q_{1} \\right)} \\sin{\\left(q_{2} \\right)} \\sin{\\left(q_{3} \\right)} - \\sin{\\left(q_{1} \\right)} \\cos{\\left(q_{2} \\right)} \\cos{\\left(q_{3} \\right)}\\right) + l_{5} \\left(\\left(\\sin{\\left(q_{1} \\right)} \\sin{\\left(q_{2} \\right)} \\sin{\\left(q_{3} \\right)} - \\sin{\\left(q_{1} \\right)} \\cos{\\left(q_{2} \\right)} \\cos{\\left(q_{3} \\right)}\\right) \\cos{\\left(q_{5} \\right)} - \\left(- \\sin{\\left(q_{1} \\right)} \\sin{\\left(q_{2} \\right)} \\cos{\\left(q_{3} \\right)} - \\sin{\\left(q_{1} \\right)} \\sin{\\left(q_{3} \\right)} \\cos{\\left(q_{2} \\right)}\\right) \\sin{\\left(q_{5} \\right)} \\cos{\\left(q_{4} \\right)}\\right) & l_{4} \\left(\\sin{\\left(q_{1} \\right)} \\sin{\\left(q_{2} \\right)} \\sin{\\left(q_{3} \\right)} - \\sin{\\left(q_{1} \\right)} \\cos{\\left(q_{2} \\right)} \\cos{\\left(q_{3} \\right)}\\right) + l_{5} \\left(\\left(\\sin{\\left(q_{1} \\right)} \\sin{\\left(q_{2} \\right)} \\sin{\\left(q_{3} \\right)} - \\sin{\\left(q_{1} \\right)} \\cos{\\left(q_{2} \\right)} \\cos{\\left(q_{3} \\right)}\\right) \\cos{\\left(q_{5} \\right)} - \\left(- \\sin{\\left(q_{1} \\right)} \\sin{\\left(q_{2} \\right)} \\cos{\\left(q_{3} \\right)} - \\sin{\\left(q_{1} \\right)} \\sin{\\left(q_{3} \\right)} \\cos{\\left(q_{2} \\right)}\\right) \\sin{\\left(q_{5} \\right)} \\cos{\\left(q_{4} \\right)}\\right) & - l_{5} \\left(- \\left(- \\sin{\\left(q_{1} \\right)} \\sin{\\left(q_{2} \\right)} \\sin{\\left(q_{3} \\right)} + \\sin{\\left(q_{1} \\right)} \\cos{\\left(q_{2} \\right)} \\cos{\\left(q_{3} \\right)}\\right) \\sin{\\left(q_{4} \\right)} - \\cos{\\left(q_{1} \\right)} \\cos{\\left(q_{4} \\right)}\\right) \\sin{\\left(q_{5} \\right)} & l_{5} \\left(- \\left(\\left(- \\sin{\\left(q_{1} \\right)} \\sin{\\left(q_{2} \\right)} \\sin{\\left(q_{3} \\right)} + \\sin{\\left(q_{1} \\right)} \\cos{\\left(q_{2} \\right)} \\cos{\\left(q_{3} \\right)}\\right) \\cos{\\left(q_{4} \\right)} - \\sin{\\left(q_{4} \\right)} \\cos{\\left(q_{1} \\right)}\\right) \\cos{\\left(q_{5} \\right)} - \\left(- \\sin{\\left(q_{1} \\right)} \\sin{\\left(q_{2} \\right)} \\cos{\\left(q_{3} \\right)} - \\sin{\\left(q_{1} \\right)} \\sin{\\left(q_{3} \\right)} \\cos{\\left(q_{2} \\right)}\\right) \\sin{\\left(q_{5} \\right)}\\right)\\end{matrix}\\right]$"
      ],
      "text/plain": [
       "Matrix([\n",
       "[  -l2*sin(q1) - l3*sin(q1)*cos(q2) + l4*(sin(q1)*sin(q2)*cos(q3) + sin(q1)*sin(q3)*cos(q2)) + l5*(-((sin(q1)*sin(q2)*sin(q3) - sin(q1)*cos(q2)*cos(q3))*cos(q4) + sin(q4)*cos(q1))*sin(q5) + (sin(q1)*sin(q2)*cos(q3) + sin(q1)*sin(q3)*cos(q2))*cos(q5)), -l3*sin(q2)*cos(q1) + l4*(sin(q2)*sin(q3)*cos(q1) - cos(q1)*cos(q2)*cos(q3)) + l5*((sin(q2)*sin(q3)*cos(q1) - cos(q1)*cos(q2)*cos(q3))*cos(q5) - (-sin(q2)*cos(q1)*cos(q3) - sin(q3)*cos(q1)*cos(q2))*sin(q5)*cos(q4)), l4*(sin(q2)*sin(q3)*cos(q1) - cos(q1)*cos(q2)*cos(q3)) + l5*((sin(q2)*sin(q3)*cos(q1) - cos(q1)*cos(q2)*cos(q3))*cos(q5) - (-sin(q2)*cos(q1)*cos(q3) - sin(q3)*cos(q1)*cos(q2))*sin(q5)*cos(q4)), -l5*(-(-sin(q2)*sin(q3)*cos(q1) + cos(q1)*cos(q2)*cos(q3))*sin(q4) + sin(q1)*cos(q4))*sin(q5), l5*(-((-sin(q2)*sin(q3)*cos(q1) + cos(q1)*cos(q2)*cos(q3))*cos(q4) + sin(q1)*sin(q4))*cos(q5) - (-sin(q2)*cos(q1)*cos(q3) - sin(q3)*cos(q1)*cos(q2))*sin(q5))],\n",
       "[l2*cos(q1) + l3*cos(q1)*cos(q2) + l4*(-sin(q2)*cos(q1)*cos(q3) - sin(q3)*cos(q1)*cos(q2)) + l5*(-((-sin(q2)*sin(q3)*cos(q1) + cos(q1)*cos(q2)*cos(q3))*cos(q4) + sin(q1)*sin(q4))*sin(q5) + (-sin(q2)*cos(q1)*cos(q3) - sin(q3)*cos(q1)*cos(q2))*cos(q5)), -l3*sin(q1)*sin(q2) + l4*(sin(q1)*sin(q2)*sin(q3) - sin(q1)*cos(q2)*cos(q3)) + l5*((sin(q1)*sin(q2)*sin(q3) - sin(q1)*cos(q2)*cos(q3))*cos(q5) - (-sin(q1)*sin(q2)*cos(q3) - sin(q1)*sin(q3)*cos(q2))*sin(q5)*cos(q4)), l4*(sin(q1)*sin(q2)*sin(q3) - sin(q1)*cos(q2)*cos(q3)) + l5*((sin(q1)*sin(q2)*sin(q3) - sin(q1)*cos(q2)*cos(q3))*cos(q5) - (-sin(q1)*sin(q2)*cos(q3) - sin(q1)*sin(q3)*cos(q2))*sin(q5)*cos(q4)), -l5*(-(-sin(q1)*sin(q2)*sin(q3) + sin(q1)*cos(q2)*cos(q3))*sin(q4) - cos(q1)*cos(q4))*sin(q5), l5*(-((-sin(q1)*sin(q2)*sin(q3) + sin(q1)*cos(q2)*cos(q3))*cos(q4) - sin(q4)*cos(q1))*cos(q5) - (-sin(q1)*sin(q2)*cos(q3) - sin(q1)*sin(q3)*cos(q2))*sin(q5))],\n",
       "[l2*cos(q1) + l3*cos(q1)*cos(q2) + l4*(-sin(q2)*cos(q1)*cos(q3) - sin(q3)*cos(q1)*cos(q2)) + l5*(-((-sin(q2)*sin(q3)*cos(q1) + cos(q1)*cos(q2)*cos(q3))*cos(q4) + sin(q1)*sin(q4))*sin(q5) + (-sin(q2)*cos(q1)*cos(q3) - sin(q3)*cos(q1)*cos(q2))*cos(q5)), -l3*sin(q1)*sin(q2) + l4*(sin(q1)*sin(q2)*sin(q3) - sin(q1)*cos(q2)*cos(q3)) + l5*((sin(q1)*sin(q2)*sin(q3) - sin(q1)*cos(q2)*cos(q3))*cos(q5) - (-sin(q1)*sin(q2)*cos(q3) - sin(q1)*sin(q3)*cos(q2))*sin(q5)*cos(q4)), l4*(sin(q1)*sin(q2)*sin(q3) - sin(q1)*cos(q2)*cos(q3)) + l5*((sin(q1)*sin(q2)*sin(q3) - sin(q1)*cos(q2)*cos(q3))*cos(q5) - (-sin(q1)*sin(q2)*cos(q3) - sin(q1)*sin(q3)*cos(q2))*sin(q5)*cos(q4)), -l5*(-(-sin(q1)*sin(q2)*sin(q3) + sin(q1)*cos(q2)*cos(q3))*sin(q4) - cos(q1)*cos(q4))*sin(q5), l5*(-((-sin(q1)*sin(q2)*sin(q3) + sin(q1)*cos(q2)*cos(q3))*cos(q4) - sin(q4)*cos(q1))*cos(q5) - (-sin(q1)*sin(q2)*cos(q3) - sin(q1)*sin(q3)*cos(q2))*sin(q5))]])"
      ]
     },
     "execution_count": 10,
     "metadata": {},
     "output_type": "execute_result"
    }
   ],
   "source": [
    "from sympy import sin, cos, Matrix\n",
    "# Definir las variables simbólicas de la función vectorial\n",
    "q1, q2, q3, q4, q5, q6 = sp.symbols('q1 q2 q3 q4 q5 q6')\n",
    "l1, l2, l3, l4, l5 = sp.symbols('l1 l2 l3 l4 l5')\n",
    "\n",
    "# Definir las funciones x, y, z como se indican\n",
    "x = TeS[0,:]\n",
    "y = TeS[1,:]\n",
    "z = TeS[1,:]\n",
    "X = Matrix([x,y,z])\n",
    "Y = Matrix([q1, q2, q3, q4, q5])\n",
    "\n",
    "Jacobian = X.jacobian(Y)\n",
    "Jacobian\n"
   ]
  },
  {
   "attachments": {},
   "cell_type": "markdown",
   "metadata": {},
   "source": [
    "## Cinematica inversa analitica"
   ]
  },
  {
   "cell_type": "code",
   "execution_count": 11,
   "metadata": {},
   "outputs": [
    {
     "name": "stdout",
     "output_type": "stream",
     "text": [
      "Error en la iteración 0: 0.246\n",
      "Error en la iteración 1: 0.0685\n",
      "Error en la iteración 2: 0.008\n",
      "Error en la iteración 3: 0.0001\n",
      "\n",
      "Valores articulares obtenidos: [0.1643 0.1786 0.3725 0.0024 0.0502]\n"
     ]
    }
   ],
   "source": [
    "import numpy as np\n",
    "from sympy import sin, cos\n",
    "import math\n",
    "\n",
    "# Función que realiza el cálculo de la cinemática inversa (calculado usando el método de Newton)\n",
    "def cinematica_inversa_Newton(Xdeseado, Qinicial, L, max_iter=100, epsilon=1e-4):\n",
    "    # Es importante usar \"copy\" para no sobrescribir el valor original\n",
    "    q = Qinicial.copy()\n",
    "    # Almacenamiento del error\n",
    "    ee = []\n",
    "    q1, q2, q3,q4,q5, = sp.symbols('q1 q2 q3 q4 q5')\n",
    "    l1, l2, l3, l4,l5 = sp.symbols('l1 l2 l3 l4 l5')\n",
    "    \n",
    "    # Bucle principal\n",
    "    for i in range(max_iter):    \n",
    "        x = l2*cos(q1) + l3*cos(q1)*cos(q2) + l4*(-sin(q2)*cos(q1)*cos(q3) - sin(q3)*cos(q1)*cos(q2)) + l5*(-((-sin(q2)*sin(q3)*cos(q1) + cos(q1)*cos(q2)*cos(q3))*cos(q4) + sin(q1)*sin(q4))*sin(q5) + (-sin(q2)*cos(q1)*cos(q3) - sin(q3)*cos(q1)*cos(q2))*cos(q5))\n",
    "        y = l2*sin(q1) + l3*sin(q1)*cos(q2) + l4*(-sin(q1)*sin(q2)*cos(q3) - sin(q1)*sin(q3)*cos(q2)) + l5*(-((-sin(q1)*sin(q2)*sin(q3) + sin(q1)*cos(q2)*cos(q3))*cos(q4) - sin(q4)*cos(q1))*sin(q5) + (-sin(q1)*sin(q2)*cos(q3) - sin(q1)*sin(q3)*cos(q2))*cos(q5))\n",
    "        z = l1 - l3*sin(q2) + l4*(sin(q2)*sin(q3) - cos(q2)*cos(q3)) + l5*((sin(q2)*sin(q3) - cos(q2)*cos(q3))*cos(q5) - (-sin(q2)*cos(q3) - sin(q3)*cos(q2))*sin(q5)*cos(q4))\n",
    "\n",
    "\n",
    "        X = Matrix([x,y,z])\n",
    "        Y = Matrix([q1,q2,q3,q4,q5])\n",
    "\n",
    "        J = X.jacobian(Y).subs([(q1,q[0]), (q2,q[1]),(q3,q[2]),(q4,q[3]), (q5, q[4]), (l1, L[0]), (l2,L[1]), (l3, L[2]), (l4, L[3]), (l5, L[4])])\n",
    "\n",
    "        Ja = np.array(J).astype('float64')\n",
    "        \n",
    "        x_np = np.array(x.subs([(q1,q[0]), (q2,q[1]),(q3,q[2]),(q4,q[3]), (q5, q[4]), (l1, L[0]), (l2,L[1]), (l3, L[2]), (l4, L[3]), (l5, L[4])])).astype('float64')\n",
    "        y_np = np.array(y.subs([(q1,q[0]), (q2,q[1]),(q3,q[2]),(q4,q[3]), (q5, q[4]), (l1, L[0]), (l2,L[1]), (l3, L[2]), (l4, L[3]), (l5, L[4])])).astype('float64')\n",
    "        z_np = np.array(z.subs([(q1,q[0]), (q2,q[1]),(q3,q[2]),(q4,q[3]), (q5, q[4]), (l1, L[0]), (l2,L[1]), (l3, L[2]), (l4, L[3]), (l5, L[4])])).astype('float64')\n",
    "        \n",
    "        f = np.array([x_np, y_np, z_np])\n",
    "        \n",
    "        e = Xdeseado-f\n",
    "    \n",
    "        q = q + np.dot(np.linalg.pinv(Ja), e)\n",
    "        \n",
    "        enorm = np.linalg.norm(e)\n",
    "        print(\"Error en la iteración {}: {}\".format(i, np.round(enorm,4)))\n",
    "        ee.append(enorm)  \n",
    "\n",
    "        if (enorm < epsilon):\n",
    "            break\n",
    "    return q, ee\n",
    "\n",
    "# Prueba de la cinemática inversa\n",
    "# -------------------------------\n",
    "# Parámetros del robot\n",
    "l1 = 0.352\n",
    "l2 = 0.07\n",
    "l3 = 0.36\n",
    "l4 = 0.38\n",
    "l5 = 0.065\n",
    "L = np.array([0.352, 0.07, 0.36,0.38, 0.065])\n",
    "# Valor articular inicial\n",
    "qinit = np.array([0, 0, 0, 0, 0])\n",
    "\n",
    "# Valor x,y deseado (en el espacio cartesiano)\n",
    "xd = np.array([0.186, 0.03085, -0.0893])\n",
    "# Hiperparámetros\n",
    "epsilon = 1e-4         # Condición para el término\n",
    "max_iteraciones = 100000  # Máximo número de iteraciones\n",
    " \n",
    "# Cinemática Inversa\n",
    "q, e = cinematica_inversa_Newton(xd, qinit, L, max_iteraciones, epsilon)\n",
    "print(\"\\nValores articulares obtenidos:\", np.round(q,4))"
   ]
  },
  {
   "cell_type": "code",
   "execution_count": 12,
   "metadata": {},
   "outputs": [
    {
     "data": {
      "image/png": "[encoded data removed]",
      "text/plain": [
       "<Figure size 640x480 with 1 Axes>"
      ]
     },
     "metadata": {},
     "output_type": "display_data"
    }
   ],
   "source": [
    "# Gráfico del error (debe ser decreciente)\n",
    "plt.plot(e,'b')\n",
    "plt.plot(e,'b.')\n",
    "plt.title(\"Evolución del error\"); plt.grid()\n",
    "plt.xlabel(\"Número de iteraciones\"); plt.ylabel(\"Norma del error\");"
   ]
  },
  {
   "attachments": {},
   "cell_type": "markdown",
   "metadata": {},
   "source": [
    "## Cinematica inversa con robotic-toolbox"
   ]
  },
  {
   "cell_type": "code",
   "execution_count": 13,
   "metadata": {},
   "outputs": [
    {
     "data": {
      "text/plain": [
       "  \u001b[38;5;1m 0.2819  \u001b[0m \u001b[38;5;1m-0.4934  \u001b[0m \u001b[38;5;1m-0.8229  \u001b[0m \u001b[38;5;4m 0.186   \u001b[0m  \u001b[0m\n",
       "  \u001b[38;5;1m-0.7779  \u001b[0m \u001b[38;5;1m-0.6196  \u001b[0m \u001b[38;5;1m 0.1051  \u001b[0m \u001b[38;5;4m 0.03085 \u001b[0m  \u001b[0m\n",
       "  \u001b[38;5;1m-0.5617  \u001b[0m \u001b[38;5;1m 0.6105  \u001b[0m \u001b[38;5;1m-0.5584  \u001b[0m \u001b[38;5;4m-0.0893  \u001b[0m  \u001b[0m\n",
       "  \u001b[38;5;244m 0       \u001b[0m \u001b[38;5;244m 0       \u001b[0m \u001b[38;5;244m 0       \u001b[0m \u001b[38;5;244m 1       \u001b[0m  \u001b[0m\n"
      ]
     },
     "execution_count": 13,
     "metadata": {},
     "output_type": "execute_result"
    }
   ],
   "source": [
    "T = irb140.fkine([0.1, 0.2, 0.3, 0.4, 0.5, 0.6])\n",
    "T"
   ]
  },
  {
   "cell_type": "code",
   "execution_count": 14,
   "metadata": {},
   "outputs": [
    {
     "data": {
      "text/plain": [
       "  \u001b[38;5;1m 0.7629  \u001b[0m \u001b[38;5;1m-0.3262  \u001b[0m \u001b[38;5;1m-0.5581  \u001b[0m \u001b[38;5;4m 0.186   \u001b[0m  \u001b[0m\n",
       "  \u001b[38;5;1m-0.4479  \u001b[0m \u001b[38;5;1m-0.8893  \u001b[0m \u001b[38;5;1m-0.09241 \u001b[0m \u001b[38;5;4m 0.03084 \u001b[0m  \u001b[0m\n",
       "  \u001b[38;5;1m-0.4662  \u001b[0m \u001b[38;5;1m 0.3205  \u001b[0m \u001b[38;5;1m-0.8246  \u001b[0m \u001b[38;5;4m-0.08929 \u001b[0m  \u001b[0m\n",
       "  \u001b[38;5;244m 0       \u001b[0m \u001b[38;5;244m 0       \u001b[0m \u001b[38;5;244m 0       \u001b[0m \u001b[38;5;244m 1       \u001b[0m  \u001b[0m\n"
      ]
     },
     "execution_count": 14,
     "metadata": {},
     "output_type": "execute_result"
    }
   ],
   "source": [
    "T = irb140.fkine([0.1643, 0.1786, 0.3725, 0.0024, 0.0502, 0.6])\n",
    "T"
   ]
  },
  {
   "cell_type": "code",
   "execution_count": 15,
   "metadata": {},
   "outputs": [
    {
     "name": "stdout",
     "output_type": "stream",
     "text": [
      "IKsolution(q=array([0.1, 0.2, 0.3, 0.4, 0.5, 0.6]), success=True, reason=None, iterations=12, residual=4.7619681235006635e-12)\n"
     ]
    }
   ],
   "source": [
    "T = irb140.fkine([0.1, 0.2, 0.3, 0.4, 0.5, 0.6])\n",
    "sol = irb140.ikine_LM(T)                          \n",
    "print(sol)"
   ]
  },
  {
   "attachments": {},
   "cell_type": "markdown",
   "metadata": {},
   "source": [
    "## Cargar el URDF"
   ]
  },
  {
   "cell_type": "code",
   "execution_count": 173,
   "metadata": {},
   "outputs": [
    {
     "data": {
      "text/plain": [
       "DHRobot: IRB 140 (by ABB), 6 joints (RRRRRR), dynamics, geometry, standard DH parameters\n",
       "┌────┬───────┬──────┬────────┬─────────┬────────┐\n",
       "│θⱼ  │  dⱼ   │  aⱼ  │   ⍺ⱼ   │   q⁻    │   q⁺   │\n",
       "├────┼───────┼──────┼────────┼─────────┼────────┤\n",
       "│ q1\u001b[0m │ 0.352\u001b[0m │ 0.07\u001b[0m │ -90.0°\u001b[0m │ -180.0°\u001b[0m │ 180.0°\u001b[0m │\n",
       "│ q2\u001b[0m │     0\u001b[0m │ 0.36\u001b[0m │   0.0°\u001b[0m │ -100.0°\u001b[0m │ 100.0°\u001b[0m │\n",
       "│ q3\u001b[0m │     0\u001b[0m │    0\u001b[0m │ -90.0°\u001b[0m │ -220.0°\u001b[0m │  60.0°\u001b[0m │\n",
       "│ q4\u001b[0m │  0.38\u001b[0m │    0\u001b[0m │  90.0°\u001b[0m │ -200.0°\u001b[0m │ 200.0°\u001b[0m │\n",
       "│ q5\u001b[0m │     0\u001b[0m │    0\u001b[0m │ -90.0°\u001b[0m │ -120.0°\u001b[0m │ 120.0°\u001b[0m │\n",
       "│ q6\u001b[0m │ 0.065\u001b[0m │    0\u001b[0m │   0.0°\u001b[0m │ -400.0°\u001b[0m │ 400.0°\u001b[0m │\n",
       "└────┴───────┴──────┴────────┴─────────┴────────┘\n",
       "\n",
       "┌─┬──┐\n",
       "└─┴──┘\n",
       "\n",
       "┌─────┬─────┬──────┬───────┬─────┬──────┬──────┐\n",
       "│name │ q0  │ q1   │ q2    │ q3  │ q4   │ q5   │\n",
       "├─────┼─────┼──────┼───────┼─────┼──────┼──────┤\n",
       "│  qr\u001b[0m │  0°\u001b[0m │ -90°\u001b[0m │  90°\u001b[0m  │  0°\u001b[0m │  90°\u001b[0m │ -90°\u001b[0m │\n",
       "│  qz\u001b[0m │  0°\u001b[0m │  0°\u001b[0m  │  0°\u001b[0m   │  0°\u001b[0m │  0°\u001b[0m  │  0°\u001b[0m  │\n",
       "│  qd\u001b[0m │  0°\u001b[0m │ -90°\u001b[0m │  180°\u001b[0m │  0°\u001b[0m │  0°\u001b[0m  │ -90°\u001b[0m │\n",
       "└─────┴─────┴──────┴───────┴─────┴──────┴──────┘"
      ]
     },
     "execution_count": 173,
     "metadata": {},
     "output_type": "execute_result"
    }
   ],
   "source": [
    "irb140_info = rtb.models.DH.IRB140()\n",
    "irb140_info"
   ]
  },
  {
   "cell_type": "code",
   "execution_count": 113,
   "metadata": {},
   "outputs": [
    {
     "ename": "AttributeError",
     "evalue": "type object 'IRB140' has no attribute 'URDF'",
     "output_type": "error",
     "traceback": [
      "\u001b[1;31m---------------------------------------------------------------------------\u001b[0m",
      "\u001b[1;31mAttributeError\u001b[0m                            Traceback (most recent call last)",
      "Cell \u001b[1;32mIn[113], line 1\u001b[0m\n\u001b[1;32m----> 1\u001b[0m irb140_urdf_path \u001b[39m=\u001b[39m rtb\u001b[39m.\u001b[39;49mmodels\u001b[39m.\u001b[39;49mDH\u001b[39m.\u001b[39;49mIRB140\u001b[39m.\u001b[39;49mURDF()\n\u001b[0;32m      2\u001b[0m \u001b[39mprint\u001b[39m(irb140_urdf_path)\n",
      "\u001b[1;31mAttributeError\u001b[0m: type object 'IRB140' has no attribute 'URDF'"
     ]
    }
   ],
   "source": [
    "irb140_urdf_path = rtb.models.DH.IRB140.URDF()\n",
    "print(irb140_urdf_path)"
   ]
  },
  {
   "cell_type": "code",
   "execution_count": 151,
   "metadata": {},
   "outputs": [
    {
     "ename": "NameError",
     "evalue": "name 'URDF_read' is not defined",
     "output_type": "error",
     "traceback": [
      "\u001b[1;31m---------------------------------------------------------------------------\u001b[0m",
      "\u001b[1;31mNameError\u001b[0m                                 Traceback (most recent call last)",
      "Cell \u001b[1;32mIn[151], line 1\u001b[0m\n\u001b[1;32m----> 1\u001b[0m URDF_read(irb140\u001b[39m.\u001b[39murdf)\n",
      "\u001b[1;31mNameError\u001b[0m: name 'URDF_read' is not defined"
     ]
    }
   ],
   "source": [
    "URDF_read(irb140.urdf)"
   ]
  }
 ],
 "metadata": {
  "kernelspec": {
   "display_name": "Python 3",
   "language": "python",
   "name": "python3"
  },
  "language_info": {
   "codemirror_mode": {
    "name": "ipython",
    "version": 3
   },
   "file_extension": ".py",
   "mimetype": "text/x-python",
   "name": "python",
   "nbconvert_exporter": "python",
   "pygments_lexer": "ipython3",
   "version": "3.10.5"
  },
  "orig_nbformat": 4
 },
 "nbformat": 4,
 "nbformat_minor": 2
}
